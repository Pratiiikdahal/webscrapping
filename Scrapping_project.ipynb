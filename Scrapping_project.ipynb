{
 "cells": [
  {
   "cell_type": "code",
   "execution_count": 37,
   "id": "c94903d1",
   "metadata": {},
   "outputs": [],
   "source": [
    "from bs4 import BeautifulSoup\n",
    "import requests\n",
    "import pandas as pd\n"
   ]
  },
  {
   "cell_type": "code",
   "execution_count": 43,
   "id": "4c1d5b37",
   "metadata": {
    "scrolled": true
   },
   "outputs": [],
   "source": [
    "url=\"https://trends.builtwith.com/websitelist/Responsive-Tables\"\n",
    "soup=requests.get(url)\n",
    "code=BeautifulSoup(soup.text,'lxml')\n",
    "data=code.find('tbody')\n",
    "rows=data.find_all('tr')\n",
    "\n",
    "\n",
    "mat=[]\n",
    "for row in rows:\n",
    "    mat1=[]\n",
    "    columns=row.find_all('td')\n",
    "    for column in columns[1:-1]:\n",
    "        mat1.append(column.text.replace('\\xa0','').replace(' ',''))\n",
    "    mat.append(mat1)\n",
    "\n",
    "    \n",
    "\n"
   ]
  },
  {
   "cell_type": "code",
   "execution_count": 44,
   "id": "a864ba88",
   "metadata": {},
   "outputs": [],
   "source": [
    "import csv\n",
    "file=open('projectdatas.csv','w')\n",
    "x=csv.reader(file)\n",
    "csv_write=csv.writer(file)\n",
    "csv_write.writerows(mat)\n",
    "file.close()"
   ]
  },
  {
   "cell_type": "code",
   "execution_count": null,
   "id": "58087d2a",
   "metadata": {},
   "outputs": [],
   "source": []
  }
 ],
 "metadata": {
  "kernelspec": {
   "display_name": "Python 3 (ipykernel)",
   "language": "python",
   "name": "python3"
  },
  "language_info": {
   "codemirror_mode": {
    "name": "ipython",
    "version": 3
   },
   "file_extension": ".py",
   "mimetype": "text/x-python",
   "name": "python",
   "nbconvert_exporter": "python",
   "pygments_lexer": "ipython3",
   "version": "3.11.5"
  }
 },
 "nbformat": 4,
 "nbformat_minor": 5
}
